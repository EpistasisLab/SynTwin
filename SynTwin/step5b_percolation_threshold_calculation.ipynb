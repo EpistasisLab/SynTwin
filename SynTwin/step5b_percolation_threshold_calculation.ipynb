{
 "cells": [
  {
   "cell_type": "markdown",
   "id": "9b691666",
   "metadata": {},
   "source": [
    "**We used a percolation threshold equal to the first upward inflection point of the convex part of the sigmoid relationship between edge weight (X axis) and network size (Y axis) as an objective approach to filtering edges.** \n",
    "\n",
    "**There are two points, the inflection point and the intersection point of the tangent line of the inflection point with y= 0, which can be found by mathematical methods.** \n",
    "\n",
    "**It depends on your use case, you can choose whichever works best for you.** \n",
    "\n",
    "**This file shows the calculation of the Inflection point and the Intersection point of the Percolation Threshold Curve** \n"
   ]
  },
  {
   "cell_type": "code",
   "execution_count": 1,
   "id": "51b8ac8c",
   "metadata": {},
   "outputs": [],
   "source": [
    "from IPython.core.interactiveshell import InteractiveShell\n",
    "InteractiveShell.ast_node_interactivity = \"all\""
   ]
  },
  {
   "cell_type": "code",
   "execution_count": 2,
   "id": "3a2b25b3",
   "metadata": {},
   "outputs": [],
   "source": [
    "import pandas as pd\n",
    "\n",
    "# path_to_data is the folder for all input and output of SynTwin, replace path_to_data to your path\n",
    "# Percolation_threshold subfolder was created in previous step\n",
    "path = 'path_to_data/'\n",
    "percolation_folder = 'Percolation_threshold'\n",
    "method_list = ['euclidean','manhattan','cosine','gower']"
   ]
  },
  {
   "cell_type": "code",
   "execution_count": 3,
   "id": "0fdaf51f",
   "metadata": {},
   "outputs": [],
   "source": [
    "# the threshold we used, equal to the first upward inflection point of the convex part of the sigmoid relationship between edge weight (X axis) and network size (Y axis) as an objective approach to filtering edges\n",
    "def get_threshold(method):\n",
    "    if method == 'euclidean':\n",
    "        threshold=2\n",
    "    if method == 'manhattan':\n",
    "        threshold=4\n",
    "    if method == 'cosine':\n",
    "        threshold=0.22 \n",
    "    if method == 'gower':\n",
    "        threshold=0.12  \n",
    "    return threshold"
   ]
  },
  {
   "cell_type": "code",
   "execution_count": null,
   "id": "b0060287",
   "metadata": {},
   "outputs": [],
   "source": [
    "method = 'manhattan'\n",
    "threshold_curve = pd.read_csv(path+percolation_folder+'/threshold_curve_'+method+'.csv', index_col=0)"
   ]
  },
  {
   "cell_type": "markdown",
   "id": "e879e261",
   "metadata": {},
   "source": [
    "### Inflection point\n",
    "\n",
    "**fitting a sigmoid function to the data and calculating the second derivative. The inflection point is the point where the second derivative equals zero.**"
   ]
  },
  {
   "cell_type": "code",
   "execution_count": 12,
   "id": "01d6fe2d",
   "metadata": {},
   "outputs": [
    {
     "data": {
      "text/plain": [
       "9.700204267997488"
      ]
     },
     "execution_count": 12,
     "metadata": {},
     "output_type": "execute_result"
    }
   ],
   "source": [
    "import numpy as np\n",
    "from scipy.optimize import curve_fit\n",
    "\n",
    "# Define the sigmoidal (logistic) function\n",
    "def sigmoid(x, L, k, x0):\n",
    "    return L / (1 + np.exp(-k * (x - x0)))\n",
    "\n",
    "# Define your data points (x and y values)\n",
    "x_data = threshold_curve['Dist'].values\n",
    "y_data = threshold_curve['connections'].values\n",
    "\n",
    "# normalize data to avoid runtime error\n",
    "y_max = np.max(y_data)\n",
    "y_min = np.min(y_data)\n",
    "y_data_normalized = (y_data - y_min) / (y_max - y_min)\n",
    "\n",
    "# Fit the sigmoidal curve to the data\n",
    "params, covariance = curve_fit(sigmoid, x_data, y_data_normalized)\n",
    "\n",
    "# Extract the fitted parameters\n",
    "L, k, x0 = params\n",
    "x0"
   ]
  },
  {
   "cell_type": "code",
   "execution_count": 13,
   "id": "9e31fa12",
   "metadata": {},
   "outputs": [],
   "source": [
    "# Find the inflection point of the sigmoid function\n",
    "inflection_point = x0"
   ]
  },
  {
   "cell_type": "code",
   "execution_count": 14,
   "id": "28b41ff6",
   "metadata": {},
   "outputs": [
    {
     "data": {
      "text/plain": [
       "222501027.9296598"
      ]
     },
     "execution_count": 14,
     "metadata": {},
     "output_type": "execute_result"
    }
   ],
   "source": [
    "y_predicted = sigmoid(x0, L, k, x0)\n",
    "y_predicted * (y_max - y_min) + y_min"
   ]
  },
  {
   "cell_type": "markdown",
   "id": "362fc0c2",
   "metadata": {},
   "source": [
    "### Intersection point of the tangent line of the inflection point with y= 0\n",
    "**After finding the inflection point, the derivative of the point is the slope of the tangent line. Then, we can find the intersection point of this tangent line with y=0**"
   ]
  },
  {
   "cell_type": "code",
   "execution_count": 15,
   "id": "05b9d1f7",
   "metadata": {},
   "outputs": [],
   "source": [
    "def sigmoid_derivative(x, L, k, x0):\n",
    "    return L * k * np.exp(k * (x - x0)) / ((1 + np.exp(k * (x - x0))) ** 2)"
   ]
  },
  {
   "cell_type": "code",
   "execution_count": 16,
   "id": "2db1d43c",
   "metadata": {},
   "outputs": [
    {
     "name": "stdout",
     "output_type": "stream",
     "text": [
      "Intersection Point: (5.554407304106349, 0)\n"
     ]
    }
   ],
   "source": [
    "# Calculate the slope (m) of the tangent line at the inflection point\n",
    "m = sigmoid_derivative(inflection_point, L, k, x0)\n",
    "\n",
    "# Calculate the y-intercept (b) of the tangent line\n",
    "# tangent line: y = m * x + b, --> b = y - m * x\n",
    "b = sigmoid(inflection_point, L, k, x0) - m * inflection_point\n",
    "\n",
    "# Find the x where the tangent line intersects with y = 0\n",
    "# 0 = m * x + b --> x = -b / m\n",
    "intersection_x = -b / m\n",
    "\n",
    "# The intersection point is (intersection_x, 0)\n",
    "print(\"Intersection Point: ({}, 0)\".format(intersection_x))"
   ]
  },
  {
   "cell_type": "markdown",
   "id": "7925e868",
   "metadata": {},
   "source": [
    "## plot"
   ]
  },
  {
   "cell_type": "code",
   "execution_count": 17,
   "id": "692979a4",
   "metadata": {},
   "outputs": [
    {
     "data": {
      "text/plain": [
       "<Figure size 1600x1000 with 0 Axes>"
      ]
     },
     "execution_count": 17,
     "metadata": {},
     "output_type": "execute_result"
    },
    {
     "data": {
      "text/plain": [
       "<matplotlib.collections.PathCollection at 0x11d3fbc40>"
      ]
     },
     "execution_count": 17,
     "metadata": {},
     "output_type": "execute_result"
    },
    {
     "data": {
      "text/plain": [
       "<matplotlib.collections.LineCollection at 0x14994bfd0>"
      ]
     },
     "execution_count": 17,
     "metadata": {},
     "output_type": "execute_result"
    },
    {
     "data": {
      "text/plain": [
       "<matplotlib.collections.LineCollection at 0x11d51d330>"
      ]
     },
     "execution_count": 17,
     "metadata": {},
     "output_type": "execute_result"
    },
    {
     "data": {
      "text/plain": [
       "<matplotlib.collections.LineCollection at 0x11d51d690>"
      ]
     },
     "execution_count": 17,
     "metadata": {},
     "output_type": "execute_result"
    },
    {
     "data": {
      "text/plain": [
       "([<matplotlib.axis.XTick at 0x1499ed4b0>,\n",
       "  <matplotlib.axis.XTick at 0x1499ed4e0>,\n",
       "  <matplotlib.axis.XTick at 0x11d51dde0>,\n",
       "  <matplotlib.axis.XTick at 0x11d51e6e0>,\n",
       "  <matplotlib.axis.XTick at 0x11d51f190>,\n",
       "  <matplotlib.axis.XTick at 0x11d51fc40>,\n",
       "  <matplotlib.axis.XTick at 0x11d558730>,\n",
       "  <matplotlib.axis.XTick at 0x11d51d7b0>,\n",
       "  <matplotlib.axis.XTick at 0x11d558f10>,\n",
       "  <matplotlib.axis.XTick at 0x11d5599c0>,\n",
       "  <matplotlib.axis.XTick at 0x11d55a470>],\n",
       " [Text(0.0, 0, '0'),\n",
       "  Text(5.0, 0, '5'),\n",
       "  Text(10.0, 0, '10'),\n",
       "  Text(15.0, 0, '15'),\n",
       "  Text(20.0, 0, '20'),\n",
       "  Text(25.0, 0, '25'),\n",
       "  Text(30.0, 0, '30'),\n",
       "  Text(35.0, 0, '35'),\n",
       "  Text(40.0, 0, '40'),\n",
       "  Text(45.0, 0, '45'),\n",
       "  Text(4.0, 0, '4')])"
      ]
     },
     "execution_count": 17,
     "metadata": {},
     "output_type": "execute_result"
    },
    {
     "data": {
      "text/plain": [
       "Text(0.5, 1.0, 'Threshold Curve - manhattan')"
      ]
     },
     "execution_count": 17,
     "metadata": {},
     "output_type": "execute_result"
    },
    {
     "data": {
      "text/plain": [
       "Text(0.5, 0, 'Distance')"
      ]
     },
     "execution_count": 17,
     "metadata": {},
     "output_type": "execute_result"
    },
    {
     "data": {
      "text/plain": [
       "Text(0, 0.5, 'Num Connections')"
      ]
     },
     "execution_count": 17,
     "metadata": {},
     "output_type": "execute_result"
    },
    {
     "data": {
      "text/plain": [
       "<matplotlib.legend.Legend at 0x1499ed5d0>"
      ]
     },
     "execution_count": 17,
     "metadata": {},
     "output_type": "execute_result"
    },
    {
     "data": {
      "image/png": "[encoded data removed]",
      "text/plain": [
       "<Figure size 1600x1000 with 1 Axes>"
      ]
     },
     "metadata": {},
     "output_type": "display_data"
    }
   ],
   "source": [
    "#import numpy as np\n",
    "import matplotlib.pyplot as plt\n",
    "\n",
    "# plot\n",
    "plt.figure(figsize=(16,10))\n",
    "plt.scatter(threshold_curve['Dist'],threshold_curve['connections'])\n",
    "threshold=get_threshold(method)          \n",
    "plt.vlines(x=[threshold], ymin=0, ymax=500000000, colors='grey', ls='--', lw=2, label='paper_thres')\n",
    "plt.vlines(x=[9.7], ymin=0, ymax=500000000, colors='green', ls='--', lw=2, label='percolation_thres')\n",
    "plt.vlines(x=[5.5544], ymin=0, ymax=500000000, colors='red', ls='--', lw=2, label='intersection_point')\n",
    "if method == 'cosine':\n",
    "    plt.xticks(list(plt.xticks()[0])[3:] + [0,threshold])\n",
    "else: \n",
    "    plt.xticks(list(plt.xticks()[0])[1:] + [threshold])\n",
    "plt.ticklabel_format(style='plain')\n",
    "plt.title(\"Threshold Curve - \"+method)\n",
    "plt.xlabel(\"Distance\")\n",
    "plt.ylabel(\"Num Connections\")\n",
    "plt.legend(loc='upper right')\n",
    "plt.show()"
   ]
  },
  {
   "cell_type": "code",
   "execution_count": null,
   "id": "3489c46e",
   "metadata": {},
   "outputs": [],
   "source": []
  },
  {
   "cell_type": "code",
   "execution_count": null,
   "id": "a84f5e44",
   "metadata": {},
   "outputs": [],
   "source": []
  },
  {
   "cell_type": "code",
   "execution_count": null,
   "id": "00e5a330",
   "metadata": {},
   "outputs": [],
   "source": []
  }
 ],
 "metadata": {
  "kernelspec": {
   "display_name": "Python 3 (ipykernel)",
   "language": "python",
   "name": "python3"
  },
  "language_info": {
   "codemirror_mode": {
    "name": "ipython",
    "version": 3
   },
   "file_extension": ".py",
   "mimetype": "text/x-python",
   "name": "python",
   "nbconvert_exporter": "python",
   "pygments_lexer": "ipython3",
   "version": "3.9.13"
  },
  "toc": {
   "base_numbering": 1,
   "nav_menu": {},
   "number_sections": true,
   "sideBar": true,
   "skip_h1_title": false,
   "title_cell": "Table of Contents",
   "title_sidebar": "Contents",
   "toc_cell": false,
   "toc_position": {},
   "toc_section_display": true,
   "toc_window_display": false
  }
 },
 "nbformat": 4,
 "nbformat_minor": 5
}

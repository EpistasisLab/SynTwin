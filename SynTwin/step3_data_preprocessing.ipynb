{
 "cells": [
  {
   "cell_type": "code",
   "execution_count": null,
   "id": "5d2f47bb",
   "metadata": {},
   "outputs": [],
   "source": [
    "import pandas as pd\n",
    "import numpy as np\n",
    "from sklearn.preprocessing import OneHotEncoder\n",
    "from sklearn.preprocessing import StandardScaler\n",
    "import os"
   ]
  },
  {
   "cell_type": "markdown",
   "id": "2395f766",
   "metadata": {},
   "source": [
    "### One hot encoding full real data"
   ]
  },
  {
   "cell_type": "code",
   "execution_count": null,
   "id": "24619b96",
   "metadata": {},
   "outputs": [],
   "source": [
    "breast_survival_full = pd.read_csv(\"path_to_data/breast_survival_10-15_sample.csv\")\n",
    "breast_survival_full.shape"
   ]
  },
  {
   "cell_type": "code",
   "execution_count": null,
   "id": "1f9fcf8a",
   "metadata": {},
   "outputs": [],
   "source": [
    "breast_survival_full['Sex'].unique()\n",
    "\n",
    "# 1 Male\n",
    "# 2 Female"
   ]
  },
  {
   "cell_type": "code",
   "execution_count": null,
   "id": "c9add0c8",
   "metadata": {},
   "outputs": [],
   "source": [
    "breast_survival_full['CombinedSummaryStage'].unique()\n",
    "\n",
    "# 1 Localized only\n",
    "# 2 Regional by direct extension only\n",
    "# 3 Regional lymph nodes involved only\n",
    "# 4 Regional by both direct extension and lymph node involvement\n",
    "# 7 Distant site(s)/node(s) involved\n",
    "# 9 Unknown/unstaged/unspecified/DCO"
   ]
  },
  {
   "cell_type": "code",
   "execution_count": null,
   "id": "b0400a25",
   "metadata": {},
   "outputs": [],
   "source": [
    "breast_survival_full['Grade'].unique()\n",
    "\n",
    "# 1 Well differentiated; Grade I\n",
    "# 2 Moderately differentiated; Grade II\n",
    "# 3 Poorly differentiated; Grade III\n",
    "# 4 Undifferentiated; anaplastic; Grade IV\n",
    "# 9 Unknown"
   ]
  },
  {
   "cell_type": "code",
   "execution_count": null,
   "id": "9d0a86e3",
   "metadata": {},
   "outputs": [],
   "source": [
    "breast_survival_full['SeqNum'].unique()\n",
    "\n",
    "# 0 One primary only\n",
    "# 1 1st of 2 or more primaries\n",
    "# 2 2nd of 2 or more primaries\n",
    "# 3 3rd of 3 or more primaries\n",
    "# 4 4th of 4 or more primaries\n",
    "# 5 5th of 5 or more primaries\n",
    "# 6 6th of 6 or more primaries\n",
    "# 7 7th of 7 or more primaries\n",
    "# 8 8th of 8 or more primaries\n",
    "# 11 11th of 11 or more primaries\n",
    "# 20 20th of 20 or more primaries\n",
    "# 99 Unknown seq num - federally required in situ or malig tumors"
   ]
  },
  {
   "cell_type": "code",
   "execution_count": null,
   "id": "3a1a24fe",
   "metadata": {},
   "outputs": [],
   "source": [
    "breast_survival_full['Age'].unique()"
   ]
  },
  {
   "cell_type": "code",
   "execution_count": null,
   "id": "874590ab",
   "metadata": {},
   "outputs": [],
   "source": [
    "breast_survival_full['SurvivalMonths'].unique()"
   ]
  },
  {
   "cell_type": "code",
   "execution_count": null,
   "id": "0478c4ec",
   "metadata": {},
   "outputs": [],
   "source": [
    "survival_months_dict = {'SurvivalMonths': {'0072':72, '0059':59, '0081':81, '0065':65, '0088':88,\n",
    "       '0098':98, '0107':107, '0080':80, '0037':37, '0062':62, '0052':52, '0116':116, '0013':13,\n",
    "       '0054':54, '0049':49, '0056':56, '0108':108, '0091':91, '0070':70, '0111':111, '0090':90,\n",
    "       '0101':101, '0112':112, '0051':51, '0100':100, '0053':53, '0095':95, '0073':73, '0103':103,\n",
    "       '0022':22, '0074':74, '0110':110, '0033':33, '0031':31, '0005':5, '0086':86, '0060':60,\n",
    "       '0096':96, '0050':50, '0010':10, '0089':89, '0035':35, '0109':109, '0066':66, '0087':87,\n",
    "       '0067':67, '0058':58, '0082':82, '0105':105, '0093':93, '0057':57, '0048':48, '0079':79,\n",
    "       '0071':71, '0099':99, '0041':41, '0075':75, '0102':102, '0097':97, '0114':114, '0094':94,\n",
    "       '0078':78, '0076':76, '0104':104, '0077':77, '0083':83, '0113':113, '0061':61, '0115':115,\n",
    "       '0007':7, '0064':64, '0119':119, '0118':118, '0008':8, '0092':92, '0084':84, '0028':28,\n",
    "       '0018':18, '0068':68, '0117':117, '0063':63, '0085':85, '0055':55, '0046':46, '0006':6,\n",
    "       '0042':42, '0032':32, '0069':69, '0001':1, '0106':106, '0034':34, '0004':4, '0015':15,\n",
    "       '0003':3, '0021':21, '0019':19, '0047':47, '0012':12, '0027':27, '0016':16, '0024':24,\n",
    "       '0043':43, '0014':14, '0020':20, '0000':0, '0038':38, '0040':40, '0002':2, '0039':39,\n",
    "       '0009':9, '0030':30, '0023':23, '0045':45, '0011':11, '0026':26, '0044':44, '0029':29,\n",
    "       '0017':17, '0025':25, '0036':36}}"
   ]
  },
  {
   "cell_type": "code",
   "execution_count": null,
   "id": "177c1072",
   "metadata": {},
   "outputs": [],
   "source": [
    "replace_dict = {'Sex': {'Male': 1, 'Female': 2}, 'YearDx':{2010:1, 2011:2, 2012:3, 2013:4, 2014:5, 2015:6}, \\\n",
    "                'Age':{'15-19 years':1, '20-24 years':2, '25-29 years':3, '30-34 years':4, '35-39 years':5, \\\n",
    "                      '40-44 years':6, '45-49 years':7, '50-54 years':8, '55-59 years':9, '60-64 years':10, '65-69 years':11, \\\n",
    "                      '70-74 years':12, '75-79 years':13, '80-84 years':14, '85+ years':15}, \\\n",
    "                'CombinedSummaryStage': {'Localized only':1, 'Regional by direct extension only':2, 'Regional lymph nodes involved only':3, \\\n",
    "                 'Regional by both direct extension and lymph node involvement':4, 'Distant site(s)/node(s) involved':7, 'Unknown/unstaged/unspecified/DCO':9}, \\\n",
    "                'Grade': {'Well differentiated; Grade I':1, 'Moderately differentiated; Grade II':2, 'Poorly differentiated; Grade III':3, \\\n",
    "                          'Undifferentiated; anaplastic; Grade IV':4, 'Unknown':9}, \\\n",
    "               'SeqNum':{'One primary only':0, '1st of 2 or more primaries':1, '2nd of 2 or more primaries':2, \\\n",
    "                        '3rd of 3 or more primaries':3, '4th of 4 or more primaries':4, '5th of 5 or more primaries':5, \\\n",
    "                        '6th of 6 or more primaries':6, '7th of 7 or more primaries':7, '8th of 8 or more primaries':8, \\\n",
    "                        '9th of 9 or more primaries':9, '10th of 10 or more primaries':10, '11th of 11 or more primaries':11, \\\n",
    "                        '12th of 12 or more primaries':12, '20th of 20 or more primaries':20, 'Unknown seq num - federally required in situ or malig tumors':99,},\\\n",
    "                'VitalStatus':{'Alive':0, 'Dead':1}}"
   ]
  },
  {
   "cell_type": "code",
   "execution_count": null,
   "id": "10a576ab",
   "metadata": {},
   "outputs": [],
   "source": [
    "num_cols = ['Age', 'YearDx', 'Sex', 'Grade', 'SeqNum', 'CombinedSummaryStage']\n",
    "ohe_cols = ['Race', 'ICDO3', 'Laterality', 'PrimarySite-labeled', 'DiagnosticConfirmation', 'ICCCSite']"
   ]
  },
  {
   "cell_type": "code",
   "execution_count": null,
   "id": "2e681779",
   "metadata": {},
   "outputs": [],
   "source": [
    "# Apply label encoding on selected columns\n",
    "breast_survival_full = breast_survival_full.replace(replace_dict)\n",
    "breast_survival_full = breast_survival_full.replace(survival_months_dict)\n",
    "breast_survival_full['SurvivalMonths'] = pd.to_numeric(breast_survival_full['SurvivalMonths'], errors='coerce')\n",
    "breast_survival_full.describe()"
   ]
  },
  {
   "cell_type": "code",
   "execution_count": null,
   "id": "61e2ddf0",
   "metadata": {},
   "outputs": [],
   "source": [
    "# Train OHE transformation on full real dataset\n",
    "df_full = breast_survival_full.copy()\n",
    "ohe = OneHotEncoder()\n",
    "feature_arr = ohe.fit_transform(df_full[ohe_cols]).toarray()\n",
    "ohe_labels = ohe.get_feature_names(ohe_cols)\n",
    "features = pd.DataFrame(\n",
    "               feature_arr,\n",
    "               columns=ohe_labels)\n",
    "df_full = df_full.drop(ohe_cols,axis = 1)\n",
    "df_full = df_full.join(features)\n",
    "df_full"
   ]
  },
  {
   "cell_type": "markdown",
   "id": "c942840b",
   "metadata": {},
   "source": [
    "### Label encoding and one hot encoding holdout data"
   ]
  },
  {
   "cell_type": "code",
   "execution_count": null,
   "id": "b5daf6de",
   "metadata": {},
   "outputs": [],
   "source": [
    "breast_survival = pd.read_csv(\"path_to_data/holdout.csv\")\n",
    "breast_survival"
   ]
  },
  {
   "cell_type": "code",
   "execution_count": null,
   "id": "23795705",
   "metadata": {},
   "outputs": [],
   "source": [
    "# Apply label encoding on selected columns\n",
    "breast_survival = breast_survival.replace(replace_dict)\n",
    "breast_survival = breast_survival.replace(survival_months_dict)\n",
    "breast_survival['SurvivalMonths'] = pd.to_numeric(breast_survival['SurvivalMonths'], errors='coerce')\n",
    "breast_survival.to_csv('holdout_le.csv', index=False)"
   ]
  },
  {
   "cell_type": "code",
   "execution_count": null,
   "id": "99d02937",
   "metadata": {},
   "outputs": [],
   "source": [
    "# Apply OHE transformation on holdout dataset\n",
    "df = breast_survival.copy()\n",
    "feature_arr = ohe.transform(df[ohe_cols]).toarray()\n",
    "ohe_labels = ohe.get_feature_names(ohe_cols)\n",
    "features = pd.DataFrame(\n",
    "               feature_arr,\n",
    "               columns=ohe_labels)\n",
    "df = df.drop(ohe_cols,axis = 1)\n",
    "df = df.join(features)\n",
    "df"
   ]
  },
  {
   "cell_type": "code",
   "execution_count": null,
   "id": "15163b0b",
   "metadata": {},
   "outputs": [],
   "source": [
    "# Normalize numerical columns and save the dataframe\n",
    "scaler = StandardScaler()\n",
    "df[num_cols]=scaler.fit_transform(df[num_cols])\n",
    "df.to_csv(os.path.join('path_to_data','holdout_ohe.csv'), index=False)\n",
    "df"
   ]
  },
  {
   "cell_type": "markdown",
   "id": "0b559c7b",
   "metadata": {},
   "source": [
    "### Label encoding and one hot encoding synthetic data"
   ]
  },
  {
   "cell_type": "code",
   "execution_count": null,
   "id": "843236b8",
   "metadata": {},
   "outputs": [],
   "source": [
    "breast_survival_synth = pd.read_csv('path_to_data/synth1M_duplicates.csv')\n",
    "breast_survival_synth"
   ]
  },
  {
   "cell_type": "code",
   "execution_count": null,
   "id": "774a7622",
   "metadata": {},
   "outputs": [],
   "source": [
    "# Dropping duplicate rows\n",
    "breast_survival_synth = breast_survival_synth.drop_duplicates(subset=breast_survival_synth.columns.difference(['Unnamed: 0'])).reset_index(drop=True)\n",
    "breast_survival_synth.to_csv('synth1M.csv', index=False)\n",
    "breast_survival_synth"
   ]
  },
  {
   "cell_type": "code",
   "execution_count": null,
   "id": "4f483aab",
   "metadata": {},
   "outputs": [],
   "source": [
    "# Apply label encoding on selected columns\n",
    "breast_survival_synth = breast_survival_synth.replace(replace_dict)\n",
    "breast_survival_synth = breast_survival_synth.replace(survival_months_dict)\n",
    "breast_survival_synth['SurvivalMonths'] = pd.to_numeric(breast_survival_synth['SurvivalMonths'], errors='coerce')\n",
    "breast_survival_synth.to_csv('synth1M_le.csv', index=False)\n",
    "breast_survival_synth"
   ]
  },
  {
   "cell_type": "code",
   "execution_count": null,
   "id": "f0890b2a",
   "metadata": {},
   "outputs": [],
   "source": [
    "# Apply OHE transformation on 1M synthetic dataset\n",
    "df = breast_survival_synth.copy()\n",
    "feature_arr = ohe.transform(df[ohe_cols]).toarray()\n",
    "ohe_labels = ohe.get_feature_names(ohe_cols)\n",
    "features = pd.DataFrame(\n",
    "               feature_arr,\n",
    "               columns=ohe_labels)\n",
    "df = df.drop(ohe_cols,axis = 1)\n",
    "df = df.join(features)\n",
    "df"
   ]
  },
  {
   "cell_type": "code",
   "execution_count": null,
   "id": "035481b4",
   "metadata": {},
   "outputs": [],
   "source": [
    "# Normalize numerical columns and save the dataframe\n",
    "df[num_cols]=scaler.transform(df[num_cols])\n",
    "df.to_csv(os.path.join('path_to_data','synth1M_ohe.csv'), index=False)\n",
    "df"
   ]
  },
  {
   "cell_type": "code",
   "execution_count": null,
   "id": "1f5560ab",
   "metadata": {},
   "outputs": [],
   "source": []
  }
 ],
 "metadata": {
  "kernelspec": {
   "display_name": "Python 3 (ipykernel)",
   "language": "python",
   "name": "python3"
  },
  "language_info": {
   "codemirror_mode": {
    "name": "ipython",
    "version": 3
   },
   "file_extension": ".py",
   "mimetype": "text/x-python",
   "name": "python",
   "nbconvert_exporter": "python",
   "pygments_lexer": "ipython3",
   "version": "3.7.16"
  }
 },
 "nbformat": 4,
 "nbformat_minor": 5
}

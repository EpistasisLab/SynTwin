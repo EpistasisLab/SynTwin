{
 "cells": [
  {
   "cell_type": "markdown",
   "id": "b622546d",
   "metadata": {},
   "source": [
    "#### Code to calculate distance matrices between samples in the holdout dataset.\n",
    "The distance values are used to create the patient network and calculate the percolation threshold."
   ]
  },
  {
   "cell_type": "code",
   "execution_count": null,
   "id": "f95ce54c",
   "metadata": {},
   "outputs": [],
   "source": [
    "# %pip install gower"
   ]
  },
  {
   "cell_type": "code",
   "execution_count": null,
   "id": "656dd8b1",
   "metadata": {},
   "outputs": [],
   "source": [
    "import pandas as pd\n",
    "import numpy as np\n",
    "from scipy.spatial.distance import cdist\n",
    "import gower"
   ]
  },
  {
   "cell_type": "markdown",
   "id": "cddc9997",
   "metadata": {},
   "source": [
    "### Real-real distance matrices"
   ]
  },
  {
   "cell_type": "code",
   "execution_count": null,
   "id": "85e73909",
   "metadata": {},
   "outputs": [],
   "source": [
    "# OHE and normalized real data\n",
    "# path_to_data is the folder for all input and output of SynTwin, replace path_to_data to your path\n",
    "# holdout_ohe.csv from from step3 is stored in subfolder Encoded_data\n",
    "breast_survival = pd.read_csv(\"path_to_data/Encoded_data/holdout_ohe.csv\")\n",
    "real_ids = breast_survival['PatientID']\n",
    "breast_survival = breast_survival.drop(columns=['PatientID', 'Unnamed: 0'])\n",
    "real = breast_survival.copy()\n",
    "real = real.drop(columns = ['SurvivalMonths','VitalStatus'])\n",
    "print(real.shape)\n",
    "real.head()"
   ]
  },
  {
   "cell_type": "code",
   "execution_count": null,
   "id": "0ef1c2ae",
   "metadata": {},
   "outputs": [],
   "source": [
    "euclidean_matrix = cdist(real.iloc[:,0:], real.iloc[:,0:], metric='euclidean') \n",
    "euclidean_df = pd.DataFrame(euclidean_matrix, index=real_ids, columns=real_ids)\n",
    "print(euclidean_df.shape)\n",
    "euclidean_df.head()\n",
    "# create a subfolder Distance_matrices and save distance matrice pkl in it\n",
    "euclidean_df.to_pickle(\"path_to_data/Distance_matrices/euclidean_real_real.pkl\")\n",
    "del euclidean_df"
   ]
  },
  {
   "cell_type": "code",
   "execution_count": null,
   "id": "68fffd9d",
   "metadata": {},
   "outputs": [],
   "source": [
    "cosine_matrix = cdist(real.iloc[:,0:], real.iloc[:,0:], metric='cosine') \n",
    "cosine_df = pd.DataFrame(cosine_matrix, index=real_ids, columns=real_ids)\n",
    "cosine_df = cosine_df.mask(cosine_df < 3e-16, 0)\n",
    "print(cosine_df.shape)\n",
    "cosine_df.head()\n",
    "cosine_df.to_pickle(\"path_to_data/Distance_matrices/cosine_real_real.pkl\")\n",
    "del cosine_df"
   ]
  },
  {
   "cell_type": "code",
   "execution_count": null,
   "id": "86cbfa0d",
   "metadata": {},
   "outputs": [],
   "source": [
    "manhattan_matrix = cdist(real.iloc[:,0:], real.iloc[:,0:], metric='cityblock') \n",
    "manhattan_df = pd.DataFrame(manhattan_matrix, index=real_ids, columns=real_ids)\n",
    "print(manhattan_df.shape)\n",
    "manhattan_df.head()\n",
    "manhattan_df.to_pickle(\"path_to_data/Distance_matrices/manhattan_real_real.pkl\")\n",
    "del manhattan_df"
   ]
  },
  {
   "cell_type": "markdown",
   "id": "5d2679ea",
   "metadata": {},
   "source": [
    "### Real-real Gower distance matrix\n"
   ]
  },
  {
   "cell_type": "code",
   "execution_count": null,
   "id": "1c6ebc64",
   "metadata": {},
   "outputs": [],
   "source": [
    "# Label-encoded real data\n",
    "cat_cols = ['Race', 'ICDO3', 'Laterality', 'PrimarySite-labeled', 'DiagnosticConfirmation', 'ICCCSite']\n",
    "# holdout_le.csv from from step3 is stored in subfolder Encoded_data\n",
    "breast_survival = pd.read_csv(\"path_to_data/Encoded_data/holdout_le.csv\")\n",
    "real = breast_survival.copy()\n",
    "real_ids = breast_survival['PatientID']\n",
    "real = real.drop(columns = ['SurvivalMonths','VitalStatus','PatientID', 'Unnamed: 0'])\n",
    "print(real.shape)\n",
    "real.head()"
   ]
  },
  {
   "cell_type": "code",
   "execution_count": null,
   "id": "621e0ac7",
   "metadata": {},
   "outputs": [],
   "source": [
    "real.describe()"
   ]
  },
  {
   "cell_type": "code",
   "execution_count": null,
   "id": "4642ff3f",
   "metadata": {},
   "outputs": [],
   "source": [
    "# calculate Gower distance \n",
    "gower_matrix = gower.gower_matrix(real.iloc[:,0:], cat_features = [False, False, False, True, True, False, True, False, True, True, True, False]) # cat_features sets which features are categorical\n",
    "gower_df = pd.DataFrame(gower_matrix, index=real_ids, columns=real_ids)\n",
    "print(gower_df.shape)\n",
    "gower_df.head()"
   ]
  },
  {
   "cell_type": "code",
   "execution_count": null,
   "id": "93c759d3",
   "metadata": {},
   "outputs": [],
   "source": [
    "# Another way to calculate Gower distance \n",
    "from step4b_cdist_gower import cdist_gower\n",
    "gower_matrix = cdist_gower(real.iloc[:,0:], cat_features = [False, False, False, True, True, False, True, False, True, True, True, False], \\\n",
    "                          num_max=None, num_ranges=[14, 5, 1, 8, 7, 8]) # cat_features sets which features are categorical, num_ranges is the range (max-min) of each numerical feature in the dataset ([Age, YearDx, Sex, Grade, SeqNum, CombinedSummaryStage])\n",
    "gower_df = pd.DataFrame(gower_matrix, index=real_ids, columns=real_ids)\n",
    "print(gower_df.shape)\n",
    "gower_df.head()"
   ]
  },
  {
   "cell_type": "code",
   "execution_count": null,
   "id": "2fc7b80c",
   "metadata": {},
   "outputs": [],
   "source": [
    "gower_df.to_pickle(\"path_to_data/Distance_matrices/gower_real_real.pkl\")\n",
    "del gower_df"
   ]
  },
  {
   "cell_type": "code",
   "execution_count": null,
   "id": "322e7d6f",
   "metadata": {},
   "outputs": [],
   "source": []
  }
 ],
 "metadata": {
  "kernelspec": {
   "display_name": "Python 3 (ipykernel)",
   "language": "python",
   "name": "python3"
  },
  "language_info": {
   "codemirror_mode": {
    "name": "ipython",
    "version": 3
   },
   "file_extension": ".py",
   "mimetype": "text/x-python",
   "name": "python",
   "nbconvert_exporter": "python",
   "pygments_lexer": "ipython3",
   "version": "3.7.15"
  }
 },
 "nbformat": 4,
 "nbformat_minor": 5
}

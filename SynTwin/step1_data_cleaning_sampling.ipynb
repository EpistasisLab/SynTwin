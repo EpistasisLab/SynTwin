{
 "cells": [
  {
   "cell_type": "code",
   "execution_count": 1,
   "id": "0a9e316b",
   "metadata": {},
   "outputs": [],
   "source": [
    "from IPython.core.interactiveshell import InteractiveShell\n",
    "InteractiveShell.ast_node_interactivity = \"all\""
   ]
  },
  {
   "cell_type": "code",
   "execution_count": 2,
   "id": "5eceb0f5",
   "metadata": {},
   "outputs": [],
   "source": [
    "import pandas\n",
    "\n",
    "data_path = '/path_to_data/SEER Data'\n",
    "\n",
    "#324,117 rows for breast patients with survival 2010 -2015 (alive or dead attributable to this cancer dx)\n",
    "Breast_survival_2 = pandas.read_csv(data_path+'/Breast survival 2010 -2015/export.txt', sep=\"\\t\", header=None, names=[\"PatientID\", \"Age\", \"YearDx\", \"Sex\", \"Race\", \"ICDO3\", \"Grade\", \"Laterality\", \"SeqNum\", \"PrimarySite-labeled\", \"DiagnosticConfirmation\", \"ICCCSite\", \"CombinedSummaryStage\", \"SurvivalMonths\", \"VitalStatus\", 'CauseSpecificDeathClassification', 'CODtoSite'])"
   ]
  },
  {
   "cell_type": "code",
   "execution_count": 5,
   "id": "04efc0f6",
   "metadata": {},
   "outputs": [
    {
     "name": "stdout",
     "output_type": "stream",
     "text": [
      "<class 'pandas.core.frame.DataFrame'>\n",
      "RangeIndex: 314261 entries, 0 to 314260\n",
      "Data columns (total 17 columns):\n",
      " #   Column                            Non-Null Count   Dtype \n",
      "---  ------                            --------------   ----- \n",
      " 0   PatientID                         314261 non-null  int64 \n",
      " 1   Age                               314261 non-null  object\n",
      " 2   YearDx                            314261 non-null  int64 \n",
      " 3   Sex                               314261 non-null  object\n",
      " 4   Race                              314261 non-null  object\n",
      " 5   ICDO3                             314261 non-null  object\n",
      " 6   Grade                             314261 non-null  object\n",
      " 7   Laterality                        314261 non-null  object\n",
      " 8   SeqNum                            314261 non-null  object\n",
      " 9   PrimarySite-labeled               314261 non-null  object\n",
      " 10  DiagnosticConfirmation            314261 non-null  object\n",
      " 11  ICCCSite                          314261 non-null  object\n",
      " 12  CombinedSummaryStage              314261 non-null  object\n",
      " 13  SurvivalMonths                    314261 non-null  object\n",
      " 14  VitalStatus                       314261 non-null  object\n",
      " 15  CauseSpecificDeathClassification  314261 non-null  object\n",
      " 16  CODtoSite                         314261 non-null  object\n",
      "dtypes: int64(2), object(15)\n",
      "memory usage: 40.8+ MB\n"
     ]
    },
    {
     "data": {
      "text/plain": [
       "0"
      ]
     },
     "execution_count": 5,
     "metadata": {},
     "output_type": "execute_result"
    },
    {
     "data": {
      "text/plain": [
       "PatientID                           0\n",
       "Age                                 0\n",
       "YearDx                              0\n",
       "Sex                                 0\n",
       "Race                                0\n",
       "ICDO3                               0\n",
       "Grade                               0\n",
       "Laterality                          0\n",
       "SeqNum                              0\n",
       "PrimarySite-labeled                 0\n",
       "DiagnosticConfirmation              0\n",
       "ICCCSite                            0\n",
       "CombinedSummaryStage                0\n",
       "SurvivalMonths                      0\n",
       "VitalStatus                         0\n",
       "CauseSpecificDeathClassification    0\n",
       "CODtoSite                           0\n",
       "dtype: int64"
      ]
     },
     "execution_count": 5,
     "metadata": {},
     "output_type": "execute_result"
    }
   ],
   "source": [
    "#basic info\n",
    "Breast_survival_2.info()\n",
    "\n",
    "#numeric data\n",
    "#Breast_survival_2.describe()\n",
    "\n",
    "#check duplication\n",
    "Breast_survival_2.duplicated().sum()\n",
    "\n",
    "#check missing data\n",
    "Breast_survival_2.isnull().sum()"
   ]
  },
  {
   "cell_type": "code",
   "execution_count": 4,
   "id": "d2880b6b",
   "metadata": {},
   "outputs": [
    {
     "data": {
      "text/plain": [
       "(314261, 17)"
      ]
     },
     "execution_count": 4,
     "metadata": {},
     "output_type": "execute_result"
    },
    {
     "data": {
      "text/plain": [
       "314261"
      ]
     },
     "execution_count": 4,
     "metadata": {},
     "output_type": "execute_result"
    }
   ],
   "source": [
    "#Duplicated PatientID - Some patients has multiple rows in the dataset (multiple tumor cases)\n",
    "#314261 unique patients\n",
    "Breast_survival_2= Breast_survival_2.sort_index(ascending=False).drop_duplicates(['PatientID'])\n",
    "Breast_survival_2= Breast_survival_2.sort_index().reset_index(drop=True)\n",
    "Breast_survival_2.shape\n",
    "len(Breast_survival_2.PatientID.unique())\n",
    "#Breast_survival_2"
   ]
  },
  {
   "cell_type": "code",
   "execution_count": 6,
   "id": "53aeebc6",
   "metadata": {},
   "outputs": [],
   "source": [
    "#for col in Breast_survival_2.columns:\n",
    "#    Breast_survival_2[col].value_counts()"
   ]
  },
  {
   "cell_type": "code",
   "execution_count": 7,
   "id": "98359340",
   "metadata": {},
   "outputs": [
    {
     "data": {
      "text/plain": [
       "VitalStatus  CauseSpecificDeathClassification     \n",
       "Alive        Alive or dead of other cause             268895\n",
       "             N/A not seq 0-59                              4\n",
       "Dead         Dead (attributable to this cancer dx)     45362\n",
       "Name: count, dtype: int64"
      ]
     },
     "execution_count": 7,
     "metadata": {},
     "output_type": "execute_result"
    }
   ],
   "source": [
    "Breast_survival_2.groupby(['VitalStatus'])['CauseSpecificDeathClassification'].value_counts()"
   ]
  },
  {
   "cell_type": "markdown",
   "id": "a37a60dc",
   "metadata": {},
   "source": [
    "### Sampling"
   ]
  },
  {
   "cell_type": "code",
   "execution_count": 8,
   "id": "cd85e402",
   "metadata": {},
   "outputs": [
    {
     "data": {
      "text/plain": [
       "(231930, 15)"
      ]
     },
     "execution_count": 8,
     "metadata": {},
     "output_type": "execute_result"
    }
   ],
   "source": [
    "#drop duplications (same feature and different patientid)\n",
    "import pandas as pd\n",
    "\n",
    "feature_outcome = Breast_survival_2.drop(columns=['CauseSpecificDeathClassification','CODtoSite','PatientID'])\n",
    "feature_outcome = feature_outcome.drop_duplicates()\n",
    "patientid = Breast_survival_2['PatientID']\n",
    "\n",
    "df = pd.merge(feature_outcome, patientid, left_index=True, right_index=True)\n",
    "df.shape"
   ]
  },
  {
   "cell_type": "code",
   "execution_count": 9,
   "id": "7ebd8289",
   "metadata": {},
   "outputs": [
    {
     "data": {
      "text/plain": [
       "VitalStatus\n",
       "Alive    188093\n",
       "Dead      43837\n",
       "Name: count, dtype: int64"
      ]
     },
     "execution_count": 9,
     "metadata": {},
     "output_type": "execute_result"
    },
    {
     "data": {
      "text/plain": [
       "<AxesSubplot:xlabel='YearDx'>"
      ]
     },
     "execution_count": 9,
     "metadata": {},
     "output_type": "execute_result"
    },
    {
     "data": {
      "image/png": "[encoded data removed]",
      "text/plain": [
       "<Figure size 640x480 with 1 Axes>"
      ]
     },
     "metadata": {},
     "output_type": "display_data"
    }
   ],
   "source": [
    "df['VitalStatus'].value_counts()\n",
    "df.groupby('YearDx')['VitalStatus'].value_counts().unstack().plot(kind = 'bar')"
   ]
  },
  {
   "cell_type": "code",
   "execution_count": 10,
   "id": "21459319",
   "metadata": {},
   "outputs": [
    {
     "data": {
      "text/plain": [
       "\"\\nfrom collections import defaultdict\\nfrom sklearn.preprocessing import LabelEncoder\\nimport seaborn as sns\\nimport matplotlib.pyplot as plt\\n\\nencoding_dict = defaultdict(LabelEncoder)\\nbreast_survival_encoded = df.apply(lambda x: encoding_dict[x.name].fit_transform(x))\\n\\nplt.figure(figsize=(16,10))\\nsns.heatmap(breast_survival_encoded.corr(), annot=True, fmt='.2f')\\nplt.show()\\n\""
      ]
     },
     "execution_count": 10,
     "metadata": {},
     "output_type": "execute_result"
    }
   ],
   "source": [
    "#check correlation\n",
    "\"\"\"\n",
    "from collections import defaultdict\n",
    "from sklearn.preprocessing import LabelEncoder\n",
    "import seaborn as sns\n",
    "import matplotlib.pyplot as plt\n",
    "\n",
    "encoding_dict = defaultdict(LabelEncoder)\n",
    "breast_survival_encoded = df.apply(lambda x: encoding_dict[x.name].fit_transform(x))\n",
    "\n",
    "plt.figure(figsize=(16,10))\n",
    "sns.heatmap(breast_survival_encoded.corr(), annot=True, fmt='.2f')\n",
    "plt.show()\n",
    "\"\"\""
   ]
  },
  {
   "cell_type": "code",
   "execution_count": 11,
   "id": "b96dfb87",
   "metadata": {},
   "outputs": [],
   "source": [
    "#disproportionate sampling, add random state for future works\n",
    "sampling = df.groupby('VitalStatus', group_keys=False).apply(lambda x: x.sample(43837, random_state=42)).reset_index(drop=True)\n",
    "sampling.to_csv(data_path+'/Breast survival 2010 -2015/breast_survival_10-15_sample.csv')"
   ]
  },
  {
   "cell_type": "code",
   "execution_count": 12,
   "id": "fabfc750",
   "metadata": {},
   "outputs": [
    {
     "data": {
      "text/plain": [
       "<AxesSubplot:xlabel='YearDx'>"
      ]
     },
     "execution_count": 12,
     "metadata": {},
     "output_type": "execute_result"
    },
    {
     "data": {
      "image/png": "[encoded data removed]",
      "text/plain": [
       "<Figure size 640x480 with 1 Axes>"
      ]
     },
     "metadata": {},
     "output_type": "display_data"
    }
   ],
   "source": [
    "sampling.groupby('YearDx')['VitalStatus'].value_counts().unstack().plot(kind = 'bar')"
   ]
  },
  {
   "cell_type": "code",
   "execution_count": 13,
   "id": "93c0d9a3",
   "metadata": {},
   "outputs": [
    {
     "data": {
      "text/plain": [
       "(30000, 15)"
      ]
     },
     "execution_count": 13,
     "metadata": {},
     "output_type": "execute_result"
    },
    {
     "data": {
      "text/plain": [
       "VitalStatus\n",
       "Alive    15025\n",
       "Dead     14975\n",
       "Name: count, dtype: int64"
      ]
     },
     "execution_count": 13,
     "metadata": {},
     "output_type": "execute_result"
    },
    {
     "data": {
      "text/plain": [
       "(57674, 15)"
      ]
     },
     "execution_count": 13,
     "metadata": {},
     "output_type": "execute_result"
    },
    {
     "data": {
      "text/plain": [
       "VitalStatus\n",
       "Dead     28862\n",
       "Alive    28812\n",
       "Name: count, dtype: int64"
      ]
     },
     "execution_count": 13,
     "metadata": {},
     "output_type": "execute_result"
    }
   ],
   "source": [
    "#split to 60k, 30k\n",
    "import numpy as np\n",
    "\n",
    "np.random.seed(42)\n",
    "rndperm = np.random.permutation(sampling.shape[0])\n",
    "\n",
    "sampling_holdout = sampling.iloc[rndperm[:30000],:].copy().reset_index(drop=True)\n",
    "sampling_holdout.shape\n",
    "sampling_holdout['VitalStatus'].value_counts()\n",
    "sampling_holdout.to_csv(data_path+'/Breast survival 2010 -2015/holdout.csv')\n",
    "\n",
    "sampling_synthetic = sampling.iloc[rndperm[30000:len(sampling)],:].copy().reset_index(drop=True)\n",
    "sampling_synthetic.shape\n",
    "sampling_synthetic['VitalStatus'].value_counts()\n",
    "sampling_synthetic.to_csv(data_path+'/Breast survival 2010 -2015/synthetic.csv')\n"
   ]
  },
  {
   "cell_type": "code",
   "execution_count": null,
   "id": "2bd418e5",
   "metadata": {},
   "outputs": [],
   "source": []
  }
 ],
 "metadata": {
  "kernelspec": {
   "display_name": "Python 3 (ipykernel)",
   "language": "python",
   "name": "python3"
  },
  "language_info": {
   "codemirror_mode": {
    "name": "ipython",
    "version": 3
   },
   "file_extension": ".py",
   "mimetype": "text/x-python",
   "name": "python",
   "nbconvert_exporter": "python",
   "pygments_lexer": "ipython3",
   "version": "3.9.13"
  }
 },
 "nbformat": 4,
 "nbformat_minor": 5
}

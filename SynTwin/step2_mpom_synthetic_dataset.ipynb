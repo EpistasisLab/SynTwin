{
 "cells": [
  {
   "cell_type": "markdown",
   "id": "ef62f6db",
   "metadata": {},
   "source": [
    "### Run MPoM on a dataset"
   ]
  },
  {
   "cell_type": "markdown",
   "id": "941f9f1e",
   "metadata": {},
   "source": [
    "This code block trains and saves MPoM model, generates synthetic data and evaluates its quality using the list of metrics provided. "
   ]
  },
  {
   "cell_type": "code",
   "execution_count": null,
   "id": "a6251773",
   "metadata": {},
   "outputs": [],
   "source": [
    "import sys\n",
    "import os\n",
    "import pandas as pd\n",
    "sys.path.append('..')\n",
    "sys.path.append('synthetic_algorithms_comparison/step2_synthetic_algorithms/MPoM/')\n",
    "from design import Experiment\n",
    "from design import Dataset\n",
    "from SEERData import SEERData\n",
    "from MixtureProductMultinomials import MixtureProductMultinomials\n",
    "\n",
    "data_path = \"path_to_data/synthetic.csv\"\n",
    "dataset = SEERData(data_path=data_path)\n",
    "dataset.prepare_dataset()    \n",
    "K = 30\n",
    "burn_in_steps = 1000\n",
    "n_gibbs_steps = 10000\n",
    "methods = [MixtureProductMultinomials(K=K, burn_in_steps=burn_in_steps, n_gibbs_steps=n_gibbs_steps, name='MPoM')] \n",
    "nb_samples = 1000000 \n",
    "\n",
    "# list of metrics to measure method's performance\n",
    "metrics = ['kl_divergence',\n",
    "           'cross_classification',\n",
    "           'cca_accuracy',\n",
    "           'cluster_measure',\n",
    "           'pairwise_correlation_difference',\n",
    "            'coverage',\n",
    "           'membership_disclosure',\n",
    "            'percentage_revealed',\n",
    "           'attribute_disclosure'\n",
    "]\n",
    "\n",
    "# create an experiment and execute it\n",
    "exp_folder = \"mpom_seer_\" + data_path.split(\"/\")[-1].split(\".\")[0] + \"_\" + str(K) + \"_\" + str(burn_in_steps) + \"_\" + str(n_gibbs_steps)\n",
    "out_folder = 'path_to_save/'\n",
    "exp = Experiment(out_folder, exp_folder, dataset, methods,\n",
    "                 metrics, nb_gens=1, nb_samples=nb_samples, decodeflag=0) \n",
    "exp.execute()"
   ]
  },
  {
   "cell_type": "markdown",
   "id": "fd3fb2d4",
   "metadata": {},
   "source": [
    "### Generate datasets using saved method.pkl"
   ]
  },
  {
   "cell_type": "markdown",
   "id": "3a6e980c",
   "metadata": {},
   "source": [
    "This code block is only for generating synthetic data of any size using a trained MPoM model which is saved as a pkl file. "
   ]
  },
  {
   "cell_type": "code",
   "execution_count": null,
   "id": "7cecce3e",
   "metadata": {},
   "outputs": [],
   "source": [
    "import os\n",
    "import types\n",
    "import shutil\n",
    "import pickle\n",
    "import numpy as np\n",
    "import pandas as pd\n",
    "from abc import ABCMeta, abstractmethod\n",
    "import sys\n",
    "sys.path.append('..')\n",
    "sys.path.append('synthetic_algorithms_comparison/step2_synthetic_algorithms/MPoM/')\n",
    "from design import Experiment\n",
    "from design import Dataset\n",
    "from MixtureProductMultinomials import MixtureProductMultinomials\n",
    "from SEERData import SEERData\n",
    "\n",
    "data_path = \"path_to_data/synthetic.csv\"\n",
    "output_folder = '../outputs'\n",
    "K = 30\n",
    "burn_in_steps = 1000\n",
    "n_gibbs_steps = 10000\n",
    "exp_folder = \"mpom_seer_\" + data_path.split(\"/\")[-1].split(\".\")[0] + \"_\" + str(K) + \"_\" + str(burn_in_steps) + \"_\" + str(n_gibbs_steps)\n",
    "directory = os.path.join(output_folder, exp_folder)\n",
    "method_directory = os.path.join(directory, 'MPoM')\n",
    "output_fname = os.path.join(method_directory,\n",
    "                            'method_{}.pkl'.format('MixtureProductMultinomials'))\n",
    "\n",
    "with open(output_fname, 'rb') as handle:\n",
    "    mpom_method = pickle.load(handle)\n",
    "\n",
    "\n",
    "nb_samples = 1000000 #Number of samples to generate\n",
    "dataset = SEERData(data_path=data_path)\n",
    "dataset.prepare_dataset()   \n",
    "synth_data = dataset.decode_data(mpom_method.generate_samples(nb_samples))\n",
    "\n",
    "# save synthetic data to csv file\n",
    "filename = 'synth_1M.csv'\n",
    "output_fname = os.path.join(method_directory,\n",
    "                        filename)\n",
    "synth_data.to_csv(output_fname)"
   ]
  },
  {
   "cell_type": "code",
   "execution_count": null,
   "id": "6565a10f",
   "metadata": {},
   "outputs": [],
   "source": []
  }
 ],
 "metadata": {
  "kernelspec": {
   "display_name": "Python 3 (ipykernel)",
   "language": "python",
   "name": "python3"
  },
  "language_info": {
   "codemirror_mode": {
    "name": "ipython",
    "version": 3
   },
   "file_extension": ".py",
   "mimetype": "text/x-python",
   "name": "python",
   "nbconvert_exporter": "python",
   "pygments_lexer": "ipython3",
   "version": "3.7.15"
  }
 },
 "nbformat": 4,
 "nbformat_minor": 5
}
